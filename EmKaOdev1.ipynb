{
  "nbformat": 4,
  "nbformat_minor": 0,
  "metadata": {
    "colab": {
      "provenance": [],
      "authorship_tag": "ABX9TyPBDzhSz3OubazxtIsA6lKy",
      "include_colab_link": true
    },
    "kernelspec": {
      "name": "python3",
      "display_name": "Python 3"
    },
    "language_info": {
      "name": "python"
    },
    "gpuClass": "standard"
  },
  "cells": [
    {
      "cell_type": "markdown",
      "metadata": {
        "id": "view-in-github",
        "colab_type": "text"
      },
      "source": [
        "<a href=\"https://colab.research.google.com/github/johntremolo/EmKa-Veri-Bilimi-Kutuphaneleri/blob/main/EmKaOdev1.ipynb\" target=\"_parent\"><img src=\"https://colab.research.google.com/assets/colab-badge.svg\" alt=\"Open In Colab\"/></a>"
      ]
    },
    {
      "cell_type": "code",
      "execution_count": 132,
      "metadata": {
        "colab": {
          "base_uri": "https://localhost:8080/"
        },
        "id": "5yBsb9fQYN38",
        "outputId": "069b9e2e-7920-41e4-bcfc-19e252113ee2"
      },
      "outputs": [
        {
          "output_type": "execute_result",
          "data": {
            "text/plain": [
              "3"
            ]
          },
          "metadata": {},
          "execution_count": 132
        }
      ],
      "source": [
        "#1) Manuel değerleri el ile girerek 3 boyutlu bir array oluşturup bir değişkene Atayın. Ardından 3 boyutlu olup olmadığına bakmak için dimension'ını kontrol edin\n",
        "import numpy as np\n",
        "import pandas as pd\n",
        "\n",
        "array3d = np.array([[[1, 2, 3]], [[10, 20, 30]], [[100, 200, 300]]])\n",
        "array3d.ndim"
      ]
    },
    {
      "cell_type": "code",
      "source": [
        "#2) 34, 40, 46, 52... 112 şeklinde devam eden 1 boyutlu bir array oluşturun.\n",
        "array = np.arange(34,113,6)\n",
        "array"
      ],
      "metadata": {
        "colab": {
          "base_uri": "https://localhost:8080/"
        },
        "id": "1Db-mqWQZOSz",
        "outputId": "fb8d3c56-c799-4b55-94e3-7b3b00b945fe"
      },
      "execution_count": 133,
      "outputs": [
        {
          "output_type": "execute_result",
          "data": {
            "text/plain": [
              "array([ 34,  40,  46,  52,  58,  64,  70,  76,  82,  88,  94, 100, 106,\n",
              "       112])"
            ]
          },
          "metadata": {},
          "execution_count": 133
        }
      ]
    },
    {
      "cell_type": "code",
      "source": [
        "#3) 50-500 arasında lineer artış gösteren 91 tane tam sayıdan oluşan bir array oluşturun.(dtype'ı int olsun)\n",
        "arrlin = np.linspace(50,500,91, dtype=int)\n",
        "print(arrlin)\n",
        "len(arrlin)"
      ],
      "metadata": {
        "colab": {
          "base_uri": "https://localhost:8080/"
        },
        "id": "O_7v8_tBZsO-",
        "outputId": "b9cdfbc1-d2af-42d8-99e9-4717e314c93d"
      },
      "execution_count": 134,
      "outputs": [
        {
          "output_type": "stream",
          "name": "stdout",
          "text": [
            "[ 50  55  60  65  70  75  80  85  90  95 100 105 110 115 120 125 130 135\n",
            " 140 145 150 155 160 165 170 175 180 185 190 195 200 205 210 215 220 225\n",
            " 230 235 240 245 250 255 260 265 270 275 280 285 290 295 300 305 310 315\n",
            " 320 325 330 335 340 345 350 355 360 365 370 375 380 385 390 395 400 405\n",
            " 410 415 420 425 430 435 440 445 450 455 460 465 470 475 480 485 490 495\n",
            " 500]\n"
          ]
        },
        {
          "output_type": "execute_result",
          "data": {
            "text/plain": [
              "91"
            ]
          },
          "metadata": {},
          "execution_count": 134
        }
      ]
    },
    {
      "cell_type": "code",
      "source": [
        "#4) 100(10**2) ile 10000(10**5) arasında logaritmik artış gösteren 8 sayıdan oluşan bir array oluşturun.\n",
        "arrlog = np.logspace(2,5,8)\n",
        "arrlog"
      ],
      "metadata": {
        "colab": {
          "base_uri": "https://localhost:8080/"
        },
        "id": "CSof2RU0aQSc",
        "outputId": "ccc5427c-c854-4313-aa52-3819c09af73d"
      },
      "execution_count": 135,
      "outputs": [
        {
          "output_type": "execute_result",
          "data": {
            "text/plain": [
              "array([   100.        ,    268.26957953,    719.685673  ,   1930.69772888,\n",
              "         5179.47467923,  13894.95494373,  37275.93720315, 100000.        ])"
            ]
          },
          "metadata": {},
          "execution_count": 135
        }
      ]
    },
    {
      "cell_type": "code",
      "source": [
        "#5) 0-8 tam arasındaki ardışık tam sayılardan oluşan(0 ve 8 dahil toplam 9 değer) 3x3 shape'inde bir matris oluşturun.\n",
        "arr3x3 = np.array([[0,1,2],[3,4,5],[6,7,8]])\n",
        "arr3x3"
      ],
      "metadata": {
        "colab": {
          "base_uri": "https://localhost:8080/"
        },
        "id": "NJYtG_HRbkA5",
        "outputId": "56327f5c-956b-4b0d-e7ae-267753152f83"
      },
      "execution_count": 136,
      "outputs": [
        {
          "output_type": "execute_result",
          "data": {
            "text/plain": [
              "array([[0, 1, 2],\n",
              "       [3, 4, 5],\n",
              "       [6, 7, 8]])"
            ]
          },
          "metadata": {},
          "execution_count": 136
        }
      ]
    },
    {
      "cell_type": "code",
      "source": [
        "#6) 6x6 formatında bir sıfır matrisi oluşturun. (dtype'ı int olsun)\n",
        "zero = np.zeros((6,6),dtype=int)\n",
        "zero"
      ],
      "metadata": {
        "colab": {
          "base_uri": "https://localhost:8080/"
        },
        "id": "jAjPCUHvb0Ga",
        "outputId": "ec9b5962-4e34-4d9a-f052-7c35709e1780"
      },
      "execution_count": 137,
      "outputs": [
        {
          "output_type": "execute_result",
          "data": {
            "text/plain": [
              "array([[0, 0, 0, 0, 0, 0],\n",
              "       [0, 0, 0, 0, 0, 0],\n",
              "       [0, 0, 0, 0, 0, 0],\n",
              "       [0, 0, 0, 0, 0, 0],\n",
              "       [0, 0, 0, 0, 0, 0],\n",
              "       [0, 0, 0, 0, 0, 0]])"
            ]
          },
          "metadata": {},
          "execution_count": 137
        }
      ]
    },
    {
      "cell_type": "code",
      "source": [
        "#7) 4x4 formatında bir bir matrisi oluşturun. (dtype'ı int olsun)\n",
        "one = np.ones((4,4),dtype=int)\n",
        "one "
      ],
      "metadata": {
        "colab": {
          "base_uri": "https://localhost:8080/"
        },
        "id": "ACK_uhAreC9M",
        "outputId": "86161bef-b51c-4544-d629-9ac884ace573"
      },
      "execution_count": 138,
      "outputs": [
        {
          "output_type": "execute_result",
          "data": {
            "text/plain": [
              "array([[1, 1, 1, 1],\n",
              "       [1, 1, 1, 1],\n",
              "       [1, 1, 1, 1],\n",
              "       [1, 1, 1, 1]])"
            ]
          },
          "metadata": {},
          "execution_count": 138
        }
      ]
    },
    {
      "cell_type": "code",
      "source": [
        "#8) 8x8 formatında bir birim matris oluşturun. (Sadece sol köşegeni 1 geri kalan değerleri 0 olan matris'e birim matris deniyor.) (dtype'ı int olsun)\n",
        "birim = np.eye(8,dtype=int)\n",
        "birim"
      ],
      "metadata": {
        "colab": {
          "base_uri": "https://localhost:8080/"
        },
        "id": "uOgAL7cee__a",
        "outputId": "f3c12f8b-652d-44b2-b9ee-46177a6a3c31"
      },
      "execution_count": 139,
      "outputs": [
        {
          "output_type": "execute_result",
          "data": {
            "text/plain": [
              "array([[1, 0, 0, 0, 0, 0, 0, 0],\n",
              "       [0, 1, 0, 0, 0, 0, 0, 0],\n",
              "       [0, 0, 1, 0, 0, 0, 0, 0],\n",
              "       [0, 0, 0, 1, 0, 0, 0, 0],\n",
              "       [0, 0, 0, 0, 1, 0, 0, 0],\n",
              "       [0, 0, 0, 0, 0, 1, 0, 0],\n",
              "       [0, 0, 0, 0, 0, 0, 1, 0],\n",
              "       [0, 0, 0, 0, 0, 0, 0, 1]])"
            ]
          },
          "metadata": {},
          "execution_count": 139
        }
      ]
    },
    {
      "cell_type": "code",
      "source": [
        "#9) 5x5 formatında bir köşegen matrisi oluşturun \n",
        "#(Sadece sol üstten sağ alta doğru olan köşegendeki değerleri 3 olsun diğer bütün değerleri 0) (Bunu henüz görmediniz ama birim matrise benziyor, sadece köşegen değerleri 1 değil 3 olacak. Bir şeyler düşünün)\n",
        "kosegen = np.eye(5, dtype=int)\n",
        "kosegen3 = 3*kosegen\n",
        "kosegen3"
      ],
      "metadata": {
        "colab": {
          "base_uri": "https://localhost:8080/"
        },
        "id": "oHd8eefsgUFs",
        "outputId": "f0662a0a-3d99-4f0c-d797-0e6e00f9b204"
      },
      "execution_count": 140,
      "outputs": [
        {
          "output_type": "execute_result",
          "data": {
            "text/plain": [
              "array([[3, 0, 0, 0, 0],\n",
              "       [0, 3, 0, 0, 0],\n",
              "       [0, 0, 3, 0, 0],\n",
              "       [0, 0, 0, 3, 0],\n",
              "       [0, 0, 0, 0, 3]])"
            ]
          },
          "metadata": {},
          "execution_count": 140
        }
      ]
    },
    {
      "cell_type": "code",
      "source": [
        "#10) np.random modülünden uygun fonksiyonu kullanarak 0-1 arasında toplam 6 tane değerden oluşan 1 boyutlu bir array oluşturun.\n",
        "rand = np.random.rand(6)\n",
        "rand"
      ],
      "metadata": {
        "colab": {
          "base_uri": "https://localhost:8080/"
        },
        "id": "WOSvH3uNhsx1",
        "outputId": "ec16dfec-fd9e-470b-dcaa-7e940149b207"
      },
      "execution_count": 141,
      "outputs": [
        {
          "output_type": "execute_result",
          "data": {
            "text/plain": [
              "array([0.47497101, 0.28849997, 0.27404831, 0.16076645, 0.93308802,\n",
              "       0.49418438])"
            ]
          },
          "metadata": {},
          "execution_count": 141
        }
      ]
    },
    {
      "cell_type": "code",
      "source": [
        "#11) np.random modülünden uygun fonksiyonu kullanarak 50-100 arasındaki(50 ve 100 dahil) tam sayılardan 10 tanesiyle oluşan (5,2) shape'inde bir array oluşturun. Ardından bu arrayin shape'ini kontrol edin.\n",
        "rand2 = np.random.randint(50,101,(5,2))\n",
        "print(rand2)\n",
        "rand2.shape"
      ],
      "metadata": {
        "colab": {
          "base_uri": "https://localhost:8080/"
        },
        "id": "GBkxKVpKiNgi",
        "outputId": "831f0f7f-f136-4f32-c141-99f3e45c1b3d"
      },
      "execution_count": 142,
      "outputs": [
        {
          "output_type": "stream",
          "name": "stdout",
          "text": [
            "[[69 67]\n",
            " [79 64]\n",
            " [71 59]\n",
            " [71 91]\n",
            " [66 51]]\n"
          ]
        },
        {
          "output_type": "execute_result",
          "data": {
            "text/plain": [
              "(5, 2)"
            ]
          },
          "metadata": {},
          "execution_count": 142
        }
      ]
    },
    {
      "cell_type": "code",
      "source": [
        "#12) np.random modülünden uygun fonksiyonu kullanarak 100-1000(1000 dahil değil) arasındaki tam sayılardan rastgele 50 tanesinden oluşan (2,5,5) shape'inde 3 boyutlu bir array oluşturun. \n",
        "#Ardından bu array'in dimension'ını(boyutunu) ve shape'ini kontrol edin.\n",
        "rand3 = np.random.randint(100,1000,(2,5,5),dtype=int)\n",
        "print(rand3)\n",
        "print(rand3.ndim)\n",
        "rand3.shape\n"
      ],
      "metadata": {
        "colab": {
          "base_uri": "https://localhost:8080/"
        },
        "id": "AON8j3_OjHwM",
        "outputId": "8600691b-9713-49c1-bf3f-be17cca8f8ec"
      },
      "execution_count": 143,
      "outputs": [
        {
          "output_type": "stream",
          "name": "stdout",
          "text": [
            "[[[927 264 806 761 190]\n",
            "  [662 565 548 866 354]\n",
            "  [318 250 873 447 445]\n",
            "  [494 247 970 831 152]\n",
            "  [903 264 180 150 530]]\n",
            "\n",
            " [[547 854 579 460 353]\n",
            "  [168 899 758 940 271]\n",
            "  [820 417 149 494 222]\n",
            "  [307 934 193 785 361]\n",
            "  [742 127 275 561 230]]]\n",
            "3\n"
          ]
        },
        {
          "output_type": "execute_result",
          "data": {
            "text/plain": [
              "(2, 5, 5)"
            ]
          },
          "metadata": {},
          "execution_count": 143
        }
      ]
    },
    {
      "cell_type": "code",
      "source": [
        "#13) np.random modülünden uygun fonksiyonu kullanarak 0-100(0 ve 100 dahil) arasındaki tam sayılardan 10 tane seçerek bir array oluşturun. Bu array'in maximum, mininmum değerlerine ve bu değerlerin indexlerine bakın.\n",
        "rand4 = np.random.randint(0,101,10,dtype=int)\n",
        "print(rand4)\n",
        "print(rand4.max())\n",
        "print(rand4.argmax())\n",
        "print(rand4.min())\n",
        "print(rand4.argmin())"
      ],
      "metadata": {
        "colab": {
          "base_uri": "https://localhost:8080/"
        },
        "id": "FDZZUWz5kJ8r",
        "outputId": "01692d7b-b013-4787-faee-c4e9b6498671"
      },
      "execution_count": 144,
      "outputs": [
        {
          "output_type": "stream",
          "name": "stdout",
          "text": [
            "[51 83 26 45  2 63 25 24 92 24]\n",
            "92\n",
            "8\n",
            "2\n",
            "4\n"
          ]
        }
      ]
    },
    {
      "cell_type": "code",
      "source": [
        "#14) np.random modülünden uygun fonksiyonu kullanarak 300-500(300 ve 500 dahil) arasındaki tam sayılardan 20 tane seçerek (2,2,5) shape'inde 3 boyutlu bir array oluşturun. \n",
        "#Ardından bu array'in içindeki 20 tam sayı arasından maximum ve minimum değerleri manuel olarak tespit edin ve indexleme yaparak çekmeye çalışın. ------->  (Sorunun bu kısmını anlamadım)\n",
        "rand5 = np.random.randint(300,501,(2,2,5))\n",
        "print(rand5)\n",
        "print(rand5[1,1,1])\n",
        "print(rand5[0,0,0])"
      ],
      "metadata": {
        "colab": {
          "base_uri": "https://localhost:8080/"
        },
        "id": "Q1Ho7AUhkx21",
        "outputId": "16bffb57-7e80-419b-f1cb-acf6dbb9a72d"
      },
      "execution_count": 145,
      "outputs": [
        {
          "output_type": "stream",
          "name": "stdout",
          "text": [
            "[[[348 442 440 383 466]\n",
            "  [411 495 456 430 392]]\n",
            "\n",
            " [[358 419 386 464 377]\n",
            "  [363 373 303 308 414]]]\n",
            "373\n",
            "348\n"
          ]
        }
      ]
    },
    {
      "cell_type": "code",
      "source": [
        "#15) 0-50(50 dahil) arasındaki ardışık tam sayılardan oluşan bir array oluşturun. \n",
        "#Ardından bu arrayin 20. ve 35. indexleri arasındaki değerleri 500'e eşitleyin ve yeni oluşan array'i ekrana yazdırarak broadcasting işleminin yapılıp yapılmadığını test edin.\n",
        "arr = np.arange(51)\n",
        "arr[20:36] = 500\n",
        "arr"
      ],
      "metadata": {
        "colab": {
          "base_uri": "https://localhost:8080/"
        },
        "id": "R04f0XlumzeE",
        "outputId": "3e7073f8-17e6-43bb-91d8-c042b3081e68"
      },
      "execution_count": 146,
      "outputs": [
        {
          "output_type": "execute_result",
          "data": {
            "text/plain": [
              "array([  0,   1,   2,   3,   4,   5,   6,   7,   8,   9,  10,  11,  12,\n",
              "        13,  14,  15,  16,  17,  18,  19, 500, 500, 500, 500, 500, 500,\n",
              "       500, 500, 500, 500, 500, 500, 500, 500, 500, 500,  36,  37,  38,\n",
              "        39,  40,  41,  42,  43,  44,  45,  46,  47,  48,  49,  50])"
            ]
          },
          "metadata": {},
          "execution_count": 146
        }
      ]
    }
  ]
}